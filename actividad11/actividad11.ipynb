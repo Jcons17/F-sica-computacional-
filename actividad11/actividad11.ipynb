{
 "cells": [
  {
   "cell_type": "code",
   "execution_count": 1,
   "metadata": {},
   "outputs": [],
   "source": [
    "from math import cos\n",
    "from math import sin\n",
    "\n",
    "import numpy as np\n",
    "import matplotlib.pyplot as plt\n",
    "from scipy.integrate import ode\n",
    "import pandas as pd\n"
   ]
  },
  {
   "cell_type": "code",
   "execution_count": 53,
   "metadata": {},
   "outputs": [],
   "source": [
    "\n",
    "n=1500\n",
    "tf=20\n",
    "h=tf/n\n",
    "x0=1\n",
    "y0=0\n",
    "delta=0.3\n",
    "alfa=-1\n",
    "beta=1\n",
    "gamma=0\n",
    "omega=1.2"
   ]
  },
  {
   "cell_type": "code",
   "execution_count": 54,
   "metadata": {},
   "outputs": [],
   "source": [
    "def funcion(x, y,t):\n",
    "    return (-delta*y - 2*alfa*x -beta*x**3 + gamma*cos(omega*t))\n"
   ]
  },
  {
   "cell_type": "code",
   "execution_count": 55,
   "metadata": {},
   "outputs": [],
   "source": [
    "def rungeKutta(h, x0, y0,t):\n",
    "    global x1,y1\n",
    "    l1 = h * funcion(x0, y0,t)\n",
    "    k1 = h * y0  \n",
    "    l2 = h * funcion(x0 + (k1/2), y0 + (l1/2),t + (h/2))\n",
    "    k2 = h * (y0+l1/2)  \n",
    "    l3 = h * funcion(x0 + (k2/2), y0 + (l2/2),t + (h/2))\n",
    "    k3 = h * (y0+l2/2)\n",
    "    l4 = h * funcion(x0 + k3, y0 + l3,t + h)\n",
    "    k4 = h * (y0+l3)\n",
    "    x1= x0 + (k1+2*k2+2*k3+k4)/6\n",
    "    y1= y0 + (l1+2*l2+2*l3+l4)/6\n",
    "    return [x1,y1]\n"
   ]
  },
  {
   "cell_type": "code",
   "execution_count": 56,
   "metadata": {},
   "outputs": [],
   "source": [
    "x=[]\n",
    "y=[]\n",
    "t=[]\n",
    "x.append(x0)\n",
    "y.append(y0)\n",
    "t.append(0)\n",
    "for i in range(1,n-1):\n",
    "    rungeKutta(h,x[i-1],y[i-1],t[i-1])\n",
    "    t.append(i*h)\n",
    "    x.append(x1)\n",
    "    y.append(y1)\n",
    "    \n",
    "\n"
   ]
  },
  {
   "cell_type": "code",
   "execution_count": 58,
   "metadata": {},
   "outputs": [
    {
     "data": {
      "text/plain": [
       "[<matplotlib.lines.Line2D at 0x25675975208>]"
      ]
     },
     "execution_count": 58,
     "metadata": {},
     "output_type": "execute_result"
    },
    {
     "data": {
      "image/png": "[encoded data removed]",
      "text/plain": [
       "<Figure size 432x288 with 1 Axes>"
      ]
     },
     "metadata": {
      "needs_background": "light"
     },
     "output_type": "display_data"
    }
   ],
   "source": [
    "plt.plot(t,x, label=\"Rg_f\", color = '#D2691E') \n"
   ]
  },
  {
   "cell_type": "code",
   "execution_count": null,
   "metadata": {},
   "outputs": [],
   "source": []
  },
  {
   "cell_type": "code",
   "execution_count": null,
   "metadata": {},
   "outputs": [],
   "source": []
  }
 ],
 "metadata": {
  "kernelspec": {
   "display_name": "Python 3",
   "language": "python",
   "name": "python3"
  },
  "language_info": {
   "codemirror_mode": {
    "name": "ipython",
    "version": 3
   },
   "file_extension": ".py",
   "mimetype": "text/x-python",
   "name": "python",
   "nbconvert_exporter": "python",
   "pygments_lexer": "ipython3",
   "version": "3.7.3"
  }
 },
 "nbformat": 4,
 "nbformat_minor": 2
}
