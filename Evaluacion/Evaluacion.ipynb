{
 "cells": [
  {
   "cell_type": "code",
   "execution_count": null,
   "metadata": {},
   "outputs": [],
   "source": [
    "import pandas as pd\n",
    "import numpy as np\n",
    "import matplotlib.pyplot as plt"
   ]
  },
  {
   "cell_type": "code",
   "execution_count": null,
   "metadata": {},
   "outputs": [],
   "source": []
  },
  {
   "cell_type": "code",
   "execution_count": null,
   "metadata": {},
   "outputs": [],
   "source": []
  },
  {
   "cell_type": "code",
   "execution_count": null,
   "metadata": {},
   "outputs": [],
   "source": [
    "df0=pd.read_csv('Estacionkino.dat',sep=',')"
   ]
  },
  {
   "cell_type": "code",
   "execution_count": null,
   "metadata": {},
   "outputs": [],
   "source": [
    "df = pd.DataFrame(df0)"
   ]
  },
  {
   "cell_type": "code",
   "execution_count": null,
   "metadata": {
    "scrolled": true
   },
   "outputs": [],
   "source": [
    "df['FECHA'] = pd.to_datetime(df0['TIMESTAMP'])\n",
    "\n"
   ]
  },
  {
   "cell_type": "code",
   "execution_count": null,
   "metadata": {},
   "outputs": [],
   "source": [
    "df.head()\n",
    "df.dtypes\n"
   ]
  },
  {
   "cell_type": "code",
   "execution_count": null,
   "metadata": {},
   "outputs": [],
   "source": [
    "Tabla= df.filter(['FECHA','AirTC_Avg'])"
   ]
  },
  {
   "cell_type": "code",
   "execution_count": null,
   "metadata": {},
   "outputs": [],
   "source": [
    "Tabla[\"HORA\"]=Tabla[\"FECHA\"].dt.hour\n",
    "Tabla[\"DIA\"]=Tabla[\"FECHA\"].dt.day\n",
    "Tabla[\"MES\"]=Tabla[\"FECHA\"].dt.month\n",
    "Tabla[\"AÑO\"]=Tabla[\"FECHA\"].dt.year"
   ]
  },
  {
   "cell_type": "code",
   "execution_count": null,
   "metadata": {},
   "outputs": [],
   "source": []
  },
  {
   "cell_type": "code",
   "execution_count": null,
   "metadata": {},
   "outputs": [],
   "source": [
    "TABLA = Tabla.drop(Tabla[Tabla.index < 24935].index)"
   ]
  },
  {
   "cell_type": "code",
   "execution_count": null,
   "metadata": {},
   "outputs": [],
   "source": [
    "TABLA=TABLA.reset_index()"
   ]
  },
  {
   "cell_type": "code",
   "execution_count": null,
   "metadata": {},
   "outputs": [],
   "source": [
    "prom=[]\n",
    "TMAX\n",
    "q=0\n",
    "for y in range(2018,2020):\n",
    "    for m in range(1,13):\n",
    "        for d in range(1,32):\n",
    "            for h in range(0,24):\n",
    "                a = TABLA['AirTC_Avg'][TABLA['AÑO']==[y]][ TABLA['MES']==[m]][TABLA['DIA']==[d]][ TABLA['HORA']==[h]].mean()\n",
    "               \n",
    "                prom.append(a) \n",
    "print(len(prom))\n",
    "            "
   ]
  },
  {
   "cell_type": "code",
   "execution_count": null,
   "metadata": {},
   "outputs": [],
   "source": [
    "TIEMPO = pd.date_range('11/01/2018 00:00:00', '02/18/2019 06:00:00 ', freq='H')\n",
    "len(TIEMPO)"
   ]
  },
  {
   "cell_type": "code",
   "execution_count": null,
   "metadata": {},
   "outputs": [],
   "source": [
    "promedio=prom"
   ]
  },
  {
   "cell_type": "code",
   "execution_count": null,
   "metadata": {},
   "outputs": [],
   "source": [
    "len(promedio)"
   ]
  },
  {
   "cell_type": "code",
   "execution_count": null,
   "metadata": {},
   "outputs": [],
   "source": [
    "d = {'UF': promedio}"
   ]
  },
  {
   "cell_type": "code",
   "execution_count": null,
   "metadata": {},
   "outputs": [],
   "source": [
    "hola = pd.DataFrame(d)"
   ]
  },
  {
   "cell_type": "code",
   "execution_count": null,
   "metadata": {},
   "outputs": [],
   "source": [
    "hola= hola.dropna()"
   ]
  },
  {
   "cell_type": "code",
   "execution_count": null,
   "metadata": {},
   "outputs": [],
   "source": [
    "hola[\"time\"] = TIEMPO \n",
    "#hola.tail()"
   ]
  },
  {
   "cell_type": "code",
   "execution_count": null,
   "metadata": {},
   "outputs": [],
   "source": [
    "hola.head()"
   ]
  },
  {
   "cell_type": "code",
   "execution_count": null,
   "metadata": {},
   "outputs": [],
   "source": []
  },
  {
   "cell_type": "code",
   "execution_count": null,
   "metadata": {},
   "outputs": [],
   "source": [
    "def utf24(x):\n",
    "    if(x<1.5):\n",
    "        resultado =0\n",
    "    elif(x>1.5 and x<=2.4):\n",
    "        resultado =0.5\n",
    "    elif(x>2.4 and x<=9.1):\n",
    "        resultado =1\n",
    "    elif(x>9.1 and x<=12.4):\n",
    "        resultado=0.5    \n",
    "    elif(x>12.4 and x<=15.9):\n",
    "        resultado =0\n",
    "    elif(x>15.9 and x<=18):\n",
    "        resultado =-0.5\n",
    "    elif(x>18):\n",
    "         resultado  =-1\n",
    "    return resultado"
   ]
  },
  {
   "cell_type": "code",
   "execution_count": null,
   "metadata": {},
   "outputs": [],
   "source": [
    "pepe= hola.Dias.tolist()\n",
    "h=[]\n",
    "for i in range(0,len(pepe)):\n",
    "    h.append(utf24(pepe[i]))"
   ]
  },
  {
   "cell_type": "code",
   "execution_count": null,
   "metadata": {},
   "outputs": [],
   "source": [
    "hola[\"UTF24\"]=h\n"
   ]
  },
  {
   "cell_type": "code",
   "execution_count": null,
   "metadata": {},
   "outputs": [],
   "source": []
  },
  {
   "cell_type": "code",
   "execution_count": null,
   "metadata": {},
   "outputs": [],
   "source": [
    "hola[\"HORA\"]=hola[\"time\"].dt.hour\n",
    "hola[\"DIA\"]=hola[\"time\"].dt.day\n",
    "hola[\"MES\"]=hola[\"time\"].dt.month\n",
    "hola[\"AÑO\"]=hola[\"time\"].dt.year"
   ]
  },
  {
   "cell_type": "code",
   "execution_count": null,
   "metadata": {},
   "outputs": [],
   "source": [
    "pra = []\n",
    "TMAX=[]\n",
    "TMIN=[]\n",
    "a = hola['UTF24'][hola['AÑO']==[2018]][hola['MES']==[11]][hola['DIA']==[3]].sum()\n",
    "print(a)\n",
    "for y in range(2018,2020):\n",
    "    for m in range(1,13):\n",
    "        for d in range(1,32):\n",
    "            a = hola['UTF24'][hola['AÑO']==[y]][hola['MES']==[m]][hola['DIA']==[d]].mean()\n",
    "            TM=\n",
    "            a=a*24\n",
    "            #print(a,d,m,y)  \n",
    "            pra.append(a)"
   ]
  },
  {
   "cell_type": "code",
   "execution_count": null,
   "metadata": {},
   "outputs": [],
   "source": [
    "olv=pra"
   ]
  },
  {
   "cell_type": "code",
   "execution_count": null,
   "metadata": {},
   "outputs": [],
   "source": [
    "date = pd.date_range('11/01/2018', '02/18/2019', freq='D')\n",
    "len(date)"
   ]
  },
  {
   "cell_type": "code",
   "execution_count": null,
   "metadata": {},
   "outputs": [],
   "source": [
    "d = {'SUMA_UF': olv}\n"
   ]
  },
  {
   "cell_type": "code",
   "execution_count": null,
   "metadata": {},
   "outputs": [],
   "source": [
    "SumaUF= pd.DataFrame(d)\n",
    "SumaUF=SumaUF.dropna()\n",
    "SumaUF.describe()\n",
    "SumaUF[\"FECHA\"] = date\n",
    "SumaUF.head()\n",
    "\n"
   ]
  },
  {
   "cell_type": "code",
   "execution_count": null,
   "metadata": {},
   "outputs": [],
   "source": [
    "TMaxDia = TABLA.groupby([TABLA[\"AÑO\"],TABLA[\"MES\"],TABLA[\"DIA\"]])['AirTC_Avg'].agg({\"max\"})\n",
    "TMaxDia = TMaxDia[\"max\"].tolist()\n",
    "TMinDia = TABLA.groupby([TABLA[\"AÑO\"],TABLA[\"MES\"],TABLA[\"DIA\"]])['AirTC_Avg'].agg({\"min\"})\n",
    "TMinDia = TMinDia[\"min\"].tolist()\n",
    "SumaUF[\"Tmax\"]=TMaxDia\n",
    "SumaUF[\"Tmin\"]=TMinDia\n"
   ]
  },
  {
   "cell_type": "markdown",
   "metadata": {},
   "source": [
    "SumaUF ]"
   ]
  },
  {
   "cell_type": "code",
   "execution_count": null,
   "metadata": {},
   "outputs": [],
   "source": [
    "SumaUF[\"AcumuladaUF\"]=SumaUF.cumsum[SumaUF[\"UF\"]]"
   ]
  },
  {
   "cell_type": "code",
   "execution_count": null,
   "metadata": {},
   "outputs": [],
   "source": [
    "SumaUF.tail()"
   ]
  },
  {
   "cell_type": "code",
   "execution_count": null,
   "metadata": {},
   "outputs": [],
   "source": [
    "SumaUF.plot(x=\"FECHA\",y=\"UF\",kind=\"bar\",figsize=(20,10),rot=90,fontsize=10)"
   ]
  },
  {
   "cell_type": "code",
   "execution_count": null,
   "metadata": {},
   "outputs": [],
   "source": [
    "SumaUF.plot(x=\"FECHA\",y=[\"Tmax\",\"Tmin\"],figsize=(20,10),rot=90,fontsize=20)\n"
   ]
  },
  {
   "cell_type": "code",
   "execution_count": null,
   "metadata": {},
   "outputs": [],
   "source": []
  }
 ],
 "metadata": {
  "kernelspec": {
   "display_name": "Python 3",
   "language": "python",
   "name": "python3"
  },
  "language_info": {
   "codemirror_mode": {
    "name": "ipython",
    "version": 3
   },
   "file_extension": ".py",
   "mimetype": "text/x-python",
   "name": "python",
   "nbconvert_exporter": "python",
   "pygments_lexer": "ipython3",
   "version": "3.7.1"
  }
 },
 "nbformat": 4,
 "nbformat_minor": 2
}
