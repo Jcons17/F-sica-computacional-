{
 "cells": [
  {
   "cell_type": "code",
   "execution_count": 11,
   "metadata": {},
   "outputs": [],
   "source": [
    "import pandas as pd\n",
    "import numpy as np\n",
    "import matplotlib.pyplot as plt"
   ]
  },
  {
   "cell_type": "code",
   "execution_count": null,
   "metadata": {},
   "outputs": [],
   "source": []
  },
  {
   "cell_type": "code",
   "execution_count": null,
   "metadata": {},
   "outputs": [],
   "source": []
  },
  {
   "cell_type": "code",
   "execution_count": 12,
   "metadata": {},
   "outputs": [],
   "source": [
    "df0=pd.read_csv('Estacionkino.dat',sep=',')"
   ]
  },
  {
   "cell_type": "code",
   "execution_count": 13,
   "metadata": {},
   "outputs": [],
   "source": [
    "df = pd.DataFrame(df0)"
   ]
  },
  {
   "cell_type": "code",
   "execution_count": 14,
   "metadata": {
    "scrolled": true
   },
   "outputs": [],
   "source": [
    "df['FECHA'] = pd.to_datetime(df0['TIMESTAMP'])\n",
    "\n"
   ]
  },
  {
   "cell_type": "code",
   "execution_count": 15,
   "metadata": {},
   "outputs": [
    {
     "data": {
      "text/plain": [
       "TIMESTAMP                   object\n",
       "RECORD                       int64\n",
       "batt_volt_Min              float64\n",
       "logger_temp                float64\n",
       "short_up_Avg               float64\n",
       "short_dn_Avg               float64\n",
       "long_up_Avg                float64\n",
       "long_dn_Avg                float64\n",
       "cnr4_T_C_Avg               float64\n",
       "cnr4_T_K_Avg               float64\n",
       "long_up_corr_Avg           float64\n",
       "long_dn_corr_Avg           float64\n",
       "Rs_net_Avg                 float64\n",
       "Rl_net_Avg                 float64\n",
       "albedo_Avg                  object\n",
       "Rn_Avg                     float64\n",
       "AirTC_Avg                  float64\n",
       "RH                         float64\n",
       "WS_ms_S_WVT                float64\n",
       "WindDir_D1_WVT             float64\n",
       "WindDir_SD1_WVT            float64\n",
       "Temp_C_Avg(1)              float64\n",
       "Temp_C_Avg(2)              float64\n",
       "Temp_C_Avg(3)              float64\n",
       "Temp_C_Avg(4)               object\n",
       "Result1_Avg                 object\n",
       "Result2_Avg                float64\n",
       "Result3_Avg                float64\n",
       "Result4_Avg                float64\n",
       "Result5_Avg                float64\n",
       "Result6_Avg                float64\n",
       "Result7_Avg                float64\n",
       "Result8_Avg                float64\n",
       "Result9_Avg                float64\n",
       "Riego_mm_Tot               float64\n",
       "Perco_mm_Tot                 int64\n",
       "FECHA               datetime64[ns]\n",
       "dtype: object"
      ]
     },
     "execution_count": 15,
     "metadata": {},
     "output_type": "execute_result"
    },
    {
     "data": {
      "text/plain": [
       "TIMESTAMP                   object\n",
       "RECORD                       int64\n",
       "batt_volt_Min              float64\n",
       "logger_temp                float64\n",
       "short_up_Avg               float64\n",
       "short_dn_Avg               float64\n",
       "long_up_Avg                float64\n",
       "long_dn_Avg                float64\n",
       "cnr4_T_C_Avg               float64\n",
       "cnr4_T_K_Avg               float64\n",
       "long_up_corr_Avg           float64\n",
       "long_dn_corr_Avg           float64\n",
       "Rs_net_Avg                 float64\n",
       "Rl_net_Avg                 float64\n",
       "albedo_Avg                  object\n",
       "Rn_Avg                     float64\n",
       "AirTC_Avg                  float64\n",
       "RH                         float64\n",
       "WS_ms_S_WVT                float64\n",
       "WindDir_D1_WVT             float64\n",
       "WindDir_SD1_WVT            float64\n",
       "Temp_C_Avg(1)              float64\n",
       "Temp_C_Avg(2)              float64\n",
       "Temp_C_Avg(3)              float64\n",
       "Temp_C_Avg(4)               object\n",
       "Result1_Avg                 object\n",
       "Result2_Avg                float64\n",
       "Result3_Avg                float64\n",
       "Result4_Avg                float64\n",
       "Result5_Avg                float64\n",
       "Result6_Avg                float64\n",
       "Result7_Avg                float64\n",
       "Result8_Avg                float64\n",
       "Result9_Avg                float64\n",
       "Riego_mm_Tot               float64\n",
       "Perco_mm_Tot                 int64\n",
       "FECHA               datetime64[ns]\n",
       "dtype: object"
      ]
     },
     "execution_count": 15,
     "metadata": {},
     "output_type": "execute_result"
    }
   ],
   "source": [
    "df.head()\n",
    "df.dtypes\n"
   ]
  },
  {
   "cell_type": "code",
   "execution_count": 16,
   "metadata": {},
   "outputs": [],
   "source": [
    "Tabla= df.filter(['FECHA','AirTC_Avg'])"
   ]
  },
  {
   "cell_type": "code",
   "execution_count": 17,
   "metadata": {},
   "outputs": [],
   "source": [
    "Tabla[\"HORA\"]=Tabla[\"FECHA\"].dt.hour\n",
    "Tabla[\"DIA\"]=Tabla[\"FECHA\"].dt.day\n",
    "Tabla[\"MES\"]=Tabla[\"FECHA\"].dt.month\n",
    "Tabla[\"AÑO\"]=Tabla[\"FECHA\"].dt.year"
   ]
  },
  {
   "cell_type": "code",
   "execution_count": null,
   "metadata": {},
   "outputs": [],
   "source": []
  },
  {
   "cell_type": "code",
   "execution_count": 18,
   "metadata": {},
   "outputs": [],
   "source": [
    "TABLA = Tabla.drop(Tabla[Tabla.index < 24935].index)"
   ]
  },
  {
   "cell_type": "code",
   "execution_count": 19,
   "metadata": {},
   "outputs": [],
   "source": [
    "TABLA=TABLA.reset_index()"
   ]
  },
  {
   "cell_type": "code",
   "execution_count": 21,
   "metadata": {},
   "outputs": [
    {
     "name": "stdout",
     "output_type": "stream",
     "text": [
      "17856\n",
      "17856\n"
     ]
    }
   ],
   "source": [
    "prom=[]\n",
    "q=0\n",
    "for y in range(2018,2020):\n",
    "    for m in range(1,13):\n",
    "        for d in range(1,32):\n",
    "            for h in range(0,24):\n",
    "                a = TABLA['AirTC_Avg'][TABLA['AÑO']==[y]][ TABLA['MES']==[m]][TABLA['DIA']==[d]][ TABLA['HORA']==[h]].mean()\n",
    "               \n",
    "                prom.append(a) \n",
    "print(len(prom))\n",
    "            "
   ]
  },
  {
   "cell_type": "code",
   "execution_count": 22,
   "metadata": {},
   "outputs": [
    {
     "data": {
      "text/plain": [
       "2623"
      ]
     },
     "execution_count": 22,
     "metadata": {},
     "output_type": "execute_result"
    },
    {
     "data": {
      "text/plain": [
       "2623"
      ]
     },
     "execution_count": 22,
     "metadata": {},
     "output_type": "execute_result"
    }
   ],
   "source": [
    "TIEMPO = pd.date_range('11/01/2018 00:00:00', '02/18/2019 06:00:00 ', freq='H')\n",
    "len(TIEMPO)"
   ]
  },
  {
   "cell_type": "code",
   "execution_count": 23,
   "metadata": {},
   "outputs": [],
   "source": [
    "promedio=prom"
   ]
  },
  {
   "cell_type": "code",
   "execution_count": 24,
   "metadata": {},
   "outputs": [
    {
     "data": {
      "text/plain": [
       "17856"
      ]
     },
     "execution_count": 24,
     "metadata": {},
     "output_type": "execute_result"
    },
    {
     "data": {
      "text/plain": [
       "17856"
      ]
     },
     "execution_count": 24,
     "metadata": {},
     "output_type": "execute_result"
    }
   ],
   "source": [
    "len(promedio)"
   ]
  },
  {
   "cell_type": "code",
   "execution_count": 25,
   "metadata": {},
   "outputs": [],
   "source": [
    "d = {'UF': promedio}"
   ]
  },
  {
   "cell_type": "code",
   "execution_count": 26,
   "metadata": {},
   "outputs": [],
   "source": [
    "hola = pd.DataFrame(d)"
   ]
  },
  {
   "cell_type": "code",
   "execution_count": 27,
   "metadata": {},
   "outputs": [],
   "source": [
    "hola= hola.dropna()"
   ]
  },
  {
   "cell_type": "code",
   "execution_count": 28,
   "metadata": {},
   "outputs": [],
   "source": [
    "hola[\"time\"] = TIEMPO \n",
    "#hola.tail()"
   ]
  },
  {
   "cell_type": "code",
   "execution_count": 29,
   "metadata": {},
   "outputs": [
    {
     "data": {
      "text/html": [
       "<div>\n",
       "<style scoped>\n",
       "    .dataframe tbody tr th:only-of-type {\n",
       "        vertical-align: middle;\n",
       "    }\n",
       "\n",
       "    .dataframe tbody tr th {\n",
       "        vertical-align: top;\n",
       "    }\n",
       "\n",
       "    .dataframe thead th {\n",
       "        text-align: right;\n",
       "    }\n",
       "</style>\n",
       "<table border=\"1\" class=\"dataframe\">\n",
       "  <thead>\n",
       "    <tr style=\"text-align: right;\">\n",
       "      <th></th>\n",
       "      <th>UF</th>\n",
       "      <th>time</th>\n",
       "    </tr>\n",
       "  </thead>\n",
       "  <tbody>\n",
       "    <tr>\n",
       "      <th>7440</th>\n",
       "      <td>8.708333</td>\n",
       "      <td>2018-11-01 00:00:00</td>\n",
       "    </tr>\n",
       "    <tr>\n",
       "      <th>7441</th>\n",
       "      <td>8.493333</td>\n",
       "      <td>2018-11-01 01:00:00</td>\n",
       "    </tr>\n",
       "    <tr>\n",
       "      <th>7442</th>\n",
       "      <td>8.690000</td>\n",
       "      <td>2018-11-01 02:00:00</td>\n",
       "    </tr>\n",
       "    <tr>\n",
       "      <th>7443</th>\n",
       "      <td>8.846667</td>\n",
       "      <td>2018-11-01 03:00:00</td>\n",
       "    </tr>\n",
       "    <tr>\n",
       "      <th>7444</th>\n",
       "      <td>7.397500</td>\n",
       "      <td>2018-11-01 04:00:00</td>\n",
       "    </tr>\n",
       "  </tbody>\n",
       "</table>\n",
       "</div>"
      ],
      "text/plain": [
       "            UF                time\n",
       "7440  8.708333 2018-11-01 00:00:00\n",
       "7441  8.493333 2018-11-01 01:00:00\n",
       "7442  8.690000 2018-11-01 02:00:00\n",
       "7443  8.846667 2018-11-01 03:00:00\n",
       "7444  7.397500 2018-11-01 04:00:00"
      ]
     },
     "execution_count": 29,
     "metadata": {},
     "output_type": "execute_result"
    },
    {
     "data": {
      "text/html": [
       "<div>\n",
       "<style scoped>\n",
       "    .dataframe tbody tr th:only-of-type {\n",
       "        vertical-align: middle;\n",
       "    }\n",
       "\n",
       "    .dataframe tbody tr th {\n",
       "        vertical-align: top;\n",
       "    }\n",
       "\n",
       "    .dataframe thead th {\n",
       "        text-align: right;\n",
       "    }\n",
       "</style>\n",
       "<table border=\"1\" class=\"dataframe\">\n",
       "  <thead>\n",
       "    <tr style=\"text-align: right;\">\n",
       "      <th></th>\n",
       "      <th>UF</th>\n",
       "      <th>time</th>\n",
       "    </tr>\n",
       "  </thead>\n",
       "  <tbody>\n",
       "    <tr>\n",
       "      <th>7440</th>\n",
       "      <td>8.708333</td>\n",
       "      <td>2018-11-01 00:00:00</td>\n",
       "    </tr>\n",
       "    <tr>\n",
       "      <th>7441</th>\n",
       "      <td>8.493333</td>\n",
       "      <td>2018-11-01 01:00:00</td>\n",
       "    </tr>\n",
       "    <tr>\n",
       "      <th>7442</th>\n",
       "      <td>8.690000</td>\n",
       "      <td>2018-11-01 02:00:00</td>\n",
       "    </tr>\n",
       "    <tr>\n",
       "      <th>7443</th>\n",
       "      <td>8.846667</td>\n",
       "      <td>2018-11-01 03:00:00</td>\n",
       "    </tr>\n",
       "    <tr>\n",
       "      <th>7444</th>\n",
       "      <td>7.397500</td>\n",
       "      <td>2018-11-01 04:00:00</td>\n",
       "    </tr>\n",
       "  </tbody>\n",
       "</table>\n",
       "</div>"
      ],
      "text/plain": [
       "            UF                time\n",
       "7440  8.708333 2018-11-01 00:00:00\n",
       "7441  8.493333 2018-11-01 01:00:00\n",
       "7442  8.690000 2018-11-01 02:00:00\n",
       "7443  8.846667 2018-11-01 03:00:00\n",
       "7444  7.397500 2018-11-01 04:00:00"
      ]
     },
     "execution_count": 29,
     "metadata": {},
     "output_type": "execute_result"
    }
   ],
   "source": [
    "hola.head()"
   ]
  },
  {
   "cell_type": "code",
   "execution_count": null,
   "metadata": {},
   "outputs": [],
   "source": []
  },
  {
   "cell_type": "code",
   "execution_count": 30,
   "metadata": {},
   "outputs": [],
   "source": [
    "def utf24(x):\n",
    "    if(x<1.5):\n",
    "        resultado =0\n",
    "    elif(x>1.5 and x<=2.4):\n",
    "        resultado =0.5\n",
    "    elif(x>2.4 and x<=9.1):\n",
    "        resultado =1\n",
    "    elif(x>9.1 and x<=12.4):\n",
    "        resultado=0.5    \n",
    "    elif(x>12.4 and x<=15.9):\n",
    "        resultado =0\n",
    "    elif(x>15.9 and x<=18):\n",
    "        resultado =-0.5\n",
    "    elif(x>18):\n",
    "         resultado  =-1\n",
    "    return resultado"
   ]
  },
  {
   "cell_type": "code",
   "execution_count": 32,
   "metadata": {},
   "outputs": [],
   "source": [
    "pepe= hola.UF.tolist()\n",
    "h=[]\n",
    "for i in range(0,len(pepe)):\n",
    "    h.append(utf24(pepe[i]))"
   ]
  },
  {
   "cell_type": "code",
   "execution_count": 33,
   "metadata": {},
   "outputs": [],
   "source": [
    "hola[\"UTF24\"]=h\n"
   ]
  },
  {
   "cell_type": "code",
   "execution_count": null,
   "metadata": {},
   "outputs": [],
   "source": []
  },
  {
   "cell_type": "code",
   "execution_count": 34,
   "metadata": {},
   "outputs": [],
   "source": [
    "hola[\"HORA\"]=hola[\"time\"].dt.hour\n",
    "hola[\"DIA\"]=hola[\"time\"].dt.day\n",
    "hola[\"MES\"]=hola[\"time\"].dt.month\n",
    "hola[\"AÑO\"]=hola[\"time\"].dt.year"
   ]
  },
  {
   "cell_type": "code",
   "execution_count": 36,
   "metadata": {},
   "outputs": [
    {
     "name": "stdout",
     "output_type": "stream",
     "text": [
      "-9.5\n",
      "-9.5\n"
     ]
    }
   ],
   "source": [
    "pra = []\n",
    "TMAX=[]\n",
    "TMIN=[]\n",
    "a = hola['UTF24'][hola['AÑO']==[2018]][hola['MES']==[11]][hola['DIA']==[3]].sum()\n",
    "for y in range(2018,2020):\n",
    "    for m in range(1,13):\n",
    "        for d in range(1,32):\n",
    "            a = hola['UTF24'][hola['AÑO']==[y]][hola['MES']==[m]][hola['DIA']==[d]].mean()\n",
    "        \n",
    "            a=a*24\n",
    "            #print(a,d,m,y)  \n",
    "            pra.append(a)"
   ]
  },
  {
   "cell_type": "code",
   "execution_count": 37,
   "metadata": {},
   "outputs": [],
   "source": [
    "olv=pra"
   ]
  },
  {
   "cell_type": "code",
   "execution_count": 38,
   "metadata": {},
   "outputs": [
    {
     "data": {
      "text/plain": [
       "110"
      ]
     },
     "execution_count": 38,
     "metadata": {},
     "output_type": "execute_result"
    },
    {
     "data": {
      "text/plain": [
       "110"
      ]
     },
     "execution_count": 38,
     "metadata": {},
     "output_type": "execute_result"
    }
   ],
   "source": [
    "date = pd.date_range('11/01/2018', '02/18/2019', freq='D')\n",
    "len(date)"
   ]
  },
  {
   "cell_type": "code",
   "execution_count": 39,
   "metadata": {},
   "outputs": [],
   "source": [
    "d = {'SUMA_UF': olv}\n"
   ]
  },
  {
   "cell_type": "code",
   "execution_count": 40,
   "metadata": {},
   "outputs": [
    {
     "data": {
      "text/html": [
       "<div>\n",
       "<style scoped>\n",
       "    .dataframe tbody tr th:only-of-type {\n",
       "        vertical-align: middle;\n",
       "    }\n",
       "\n",
       "    .dataframe tbody tr th {\n",
       "        vertical-align: top;\n",
       "    }\n",
       "\n",
       "    .dataframe thead th {\n",
       "        text-align: right;\n",
       "    }\n",
       "</style>\n",
       "<table border=\"1\" class=\"dataframe\">\n",
       "  <thead>\n",
       "    <tr style=\"text-align: right;\">\n",
       "      <th></th>\n",
       "      <th>SUMA_UF</th>\n",
       "      <th>FECHA</th>\n",
       "    </tr>\n",
       "  </thead>\n",
       "  <tbody>\n",
       "    <tr>\n",
       "      <th>310</th>\n",
       "      <td>-0.5</td>\n",
       "      <td>2018-11-01</td>\n",
       "    </tr>\n",
       "    <tr>\n",
       "      <th>311</th>\n",
       "      <td>-9.0</td>\n",
       "      <td>2018-11-02</td>\n",
       "    </tr>\n",
       "    <tr>\n",
       "      <th>312</th>\n",
       "      <td>-9.5</td>\n",
       "      <td>2018-11-03</td>\n",
       "    </tr>\n",
       "    <tr>\n",
       "      <th>313</th>\n",
       "      <td>-11.5</td>\n",
       "      <td>2018-11-04</td>\n",
       "    </tr>\n",
       "    <tr>\n",
       "      <th>314</th>\n",
       "      <td>-8.0</td>\n",
       "      <td>2018-11-05</td>\n",
       "    </tr>\n",
       "  </tbody>\n",
       "</table>\n",
       "</div>"
      ],
      "text/plain": [
       "     SUMA_UF      FECHA\n",
       "310     -0.5 2018-11-01\n",
       "311     -9.0 2018-11-02\n",
       "312     -9.5 2018-11-03\n",
       "313    -11.5 2018-11-04\n",
       "314     -8.0 2018-11-05"
      ]
     },
     "execution_count": 40,
     "metadata": {},
     "output_type": "execute_result"
    },
    {
     "data": {
      "text/html": [
       "<div>\n",
       "<style scoped>\n",
       "    .dataframe tbody tr th:only-of-type {\n",
       "        vertical-align: middle;\n",
       "    }\n",
       "\n",
       "    .dataframe tbody tr th {\n",
       "        vertical-align: top;\n",
       "    }\n",
       "\n",
       "    .dataframe thead th {\n",
       "        text-align: right;\n",
       "    }\n",
       "</style>\n",
       "<table border=\"1\" class=\"dataframe\">\n",
       "  <thead>\n",
       "    <tr style=\"text-align: right;\">\n",
       "      <th></th>\n",
       "      <th>SUMA_UF</th>\n",
       "      <th>FECHA</th>\n",
       "    </tr>\n",
       "  </thead>\n",
       "  <tbody>\n",
       "    <tr>\n",
       "      <th>310</th>\n",
       "      <td>-0.5</td>\n",
       "      <td>2018-11-01</td>\n",
       "    </tr>\n",
       "    <tr>\n",
       "      <th>311</th>\n",
       "      <td>-9.0</td>\n",
       "      <td>2018-11-02</td>\n",
       "    </tr>\n",
       "    <tr>\n",
       "      <th>312</th>\n",
       "      <td>-9.5</td>\n",
       "      <td>2018-11-03</td>\n",
       "    </tr>\n",
       "    <tr>\n",
       "      <th>313</th>\n",
       "      <td>-11.5</td>\n",
       "      <td>2018-11-04</td>\n",
       "    </tr>\n",
       "    <tr>\n",
       "      <th>314</th>\n",
       "      <td>-8.0</td>\n",
       "      <td>2018-11-05</td>\n",
       "    </tr>\n",
       "  </tbody>\n",
       "</table>\n",
       "</div>"
      ],
      "text/plain": [
       "     SUMA_UF      FECHA\n",
       "310     -0.5 2018-11-01\n",
       "311     -9.0 2018-11-02\n",
       "312     -9.5 2018-11-03\n",
       "313    -11.5 2018-11-04\n",
       "314     -8.0 2018-11-05"
      ]
     },
     "execution_count": 40,
     "metadata": {},
     "output_type": "execute_result"
    }
   ],
   "source": [
    "SumaUF= pd.DataFrame(d)\n",
    "SumaUF=SumaUF.dropna()\n",
    "SumaUF.describe()\n",
    "SumaUF[\"FECHA\"] = date\n",
    "SumaUF.head()\n",
    "\n"
   ]
  },
  {
   "cell_type": "code",
   "execution_count": 41,
   "metadata": {},
   "outputs": [],
   "source": [
    "TMaxDia = TABLA.groupby([TABLA[\"AÑO\"],TABLA[\"MES\"],TABLA[\"DIA\"]])['AirTC_Avg'].agg({\"max\"})\n",
    "TMaxDia = TMaxDia[\"max\"].tolist()\n",
    "TMinDia = TABLA.groupby([TABLA[\"AÑO\"],TABLA[\"MES\"],TABLA[\"DIA\"]])['AirTC_Avg'].agg({\"min\"})\n",
    "TMinDia = TMinDia[\"min\"].tolist()\n",
    "SumaUF[\"Tmax\"]=TMaxDia\n",
    "SumaUF[\"Tmin\"]=TMinDia\n"
   ]
  },
  {
   "cell_type": "code",
   "execution_count": 45,
   "metadata": {},
   "outputs": [
    {
     "ename": "TypeError",
     "evalue": "'function' object is not subscriptable",
     "output_type": "error",
     "traceback": [
      "\u001b[1;31m---------------------------------------------------------------------------\u001b[0m",
      "\u001b[1;31mTypeError\u001b[0m                                 Traceback (most recent call last)",
      "\u001b[1;32m<ipython-input-45-0de7a2b441e3>\u001b[0m in \u001b[0;36m<module>\u001b[1;34m\u001b[0m\n\u001b[1;32m----> 1\u001b[1;33m \u001b[0mSumaUF\u001b[0m\u001b[1;33m[\u001b[0m\u001b[1;34m\"AcumuladaUF\"\u001b[0m\u001b[1;33m]\u001b[0m\u001b[1;33m=\u001b[0m\u001b[0mnp\u001b[0m\u001b[1;33m.\u001b[0m\u001b[0mcumsum\u001b[0m\u001b[1;33m[\u001b[0m\u001b[0mSumaUF\u001b[0m\u001b[1;33m[\u001b[0m\u001b[1;34m\"SUMA_UF\"\u001b[0m\u001b[1;33m]\u001b[0m\u001b[1;33m]\u001b[0m\u001b[1;33m\u001b[0m\u001b[1;33m\u001b[0m\u001b[0m\n\u001b[0m",
      "\u001b[1;31mTypeError\u001b[0m: 'function' object is not subscriptable"
     ]
    },
    {
     "ename": "TypeError",
     "evalue": "'function' object is not subscriptable",
     "output_type": "error",
     "traceback": [
      "\u001b[1;31m---------------------------------------------------------------------------\u001b[0m",
      "\u001b[1;31mTypeError\u001b[0m                                 Traceback (most recent call last)",
      "\u001b[1;32m<ipython-input-45-0de7a2b441e3>\u001b[0m in \u001b[0;36m<module>\u001b[1;34m\u001b[0m\n\u001b[1;32m----> 1\u001b[1;33m \u001b[0mSumaUF\u001b[0m\u001b[1;33m[\u001b[0m\u001b[1;34m\"AcumuladaUF\"\u001b[0m\u001b[1;33m]\u001b[0m\u001b[1;33m=\u001b[0m\u001b[0mnp\u001b[0m\u001b[1;33m.\u001b[0m\u001b[0mcumsum\u001b[0m\u001b[1;33m[\u001b[0m\u001b[0mSumaUF\u001b[0m\u001b[1;33m[\u001b[0m\u001b[1;34m\"SUMA_UF\"\u001b[0m\u001b[1;33m]\u001b[0m\u001b[1;33m]\u001b[0m\u001b[1;33m\u001b[0m\u001b[1;33m\u001b[0m\u001b[0m\n\u001b[0m",
      "\u001b[1;31mTypeError\u001b[0m: 'function' object is not subscriptable"
     ]
    }
   ],
   "source": [
    "SumaUF[\"AcumuladaUF\"]=np.cumsum[SumaUF[\"SUMA_UF\"]]"
   ]
  },
  {
   "cell_type": "code",
   "execution_count": null,
   "metadata": {},
   "outputs": [],
   "source": [
    "SumaUF.tail()"
   ]
  },
  {
   "cell_type": "code",
   "execution_count": null,
   "metadata": {},
   "outputs": [],
   "source": [
    "SumaUF.plot(x=\"FECHA\",y=\"AcumuladaUF\",kind=\"bar\",figsize=(20,10),rot=90,fontsize=10)"
   ]
  },
  {
   "cell_type": "code",
   "execution_count": null,
   "metadata": {},
   "outputs": [],
   "source": [
    "SumaUF.plot(x=\"FECHA\",y=[\"Tmax\",\"Tmin\"],figsize=(20,10),rot=90,fontsize=20)\n"
   ]
  },
  {
   "cell_type": "code",
   "execution_count": null,
   "metadata": {},
   "outputs": [],
   "source": []
  }
 ],
 "metadata": {
  "kernelspec": {
   "display_name": "Python 3",
   "language": "python",
   "name": "python3"
  },
  "language_info": {
   "codemirror_mode": {
    "name": "ipython",
    "version": 3
   },
   "file_extension": ".py",
   "mimetype": "text/x-python",
   "name": "python",
   "nbconvert_exporter": "python",
   "pygments_lexer": "ipython3",
   "version": "3.7.1"
  }
 },
 "nbformat": 4,
 "nbformat_minor": 2
}
